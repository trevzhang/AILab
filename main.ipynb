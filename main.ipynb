{
 "cells": [
  {
   "cell_type": "markdown",
   "source": [
    "文字生成图片，体验AI带来的震撼吧\n"
   ],
   "metadata": {
    "collapsed": false,
    "pycharm": {
     "name": "#%% md\n"
    }
   }
  },
  {
   "cell_type": "code",
   "source": [
    "!pip install --upgrade paddlepaddle -i https://mirror.baidu.com/pypi/simple\n",
    "!pip install --upgrade paddlehub -i https://mirror.baidu.com/pypi/simple"
   ],
   "metadata": {
    "collapsed": false,
    "pycharm": {
     "name": "#%%\n"
    }
   },
   "execution_count": 1,
   "outputs": [
    {
     "name": "stdout",
     "output_type": "stream",
     "text": [
      "Looking in indexes: https://mirror.baidu.com/pypi/simple\n",
      "Collecting paddlepaddle\n",
      "  Downloading https://mirror.baidu.com/pypi/packages/03/96/b7c047da0d382ca2d0474a607ff09cc21efaaa386b94bb6f60a8f6f2b00b/paddlepaddle-2.3.2-cp38-cp38-win_amd64.whl (64.3 MB)\n",
      "     ---------------------------------------- 64.3/64.3 MB 9.1 MB/s eta 0:00:00\n",
      "Requirement already satisfied: astor in d:\\anaconda3\\envs\\ailab\\lib\\site-packages (from paddlepaddle) (0.8.1)\n",
      "Requirement already satisfied: opt-einsum==3.3.0 in d:\\anaconda3\\envs\\ailab\\lib\\site-packages (from paddlepaddle) (3.3.0)\n",
      "Requirement already satisfied: requests>=2.20.0 in d:\\anaconda3\\envs\\ailab\\lib\\site-packages (from paddlepaddle) (2.28.1)\n",
      "Requirement already satisfied: Pillow in d:\\anaconda3\\envs\\ailab\\lib\\site-packages (from paddlepaddle) (9.2.0)\n",
      "Requirement already satisfied: decorator in d:\\anaconda3\\envs\\ailab\\lib\\site-packages (from paddlepaddle) (5.1.1)\n",
      "Requirement already satisfied: six in d:\\anaconda3\\envs\\ailab\\lib\\site-packages (from paddlepaddle) (1.16.0)\n",
      "Requirement already satisfied: paddle-bfloat==0.1.7 in d:\\anaconda3\\envs\\ailab\\lib\\site-packages (from paddlepaddle) (0.1.7)\n",
      "Requirement already satisfied: numpy>=1.13 in d:\\anaconda3\\envs\\ailab\\lib\\site-packages (from paddlepaddle) (1.23.3)\n",
      "Requirement already satisfied: protobuf<=3.20.0,>=3.1.0 in d:\\anaconda3\\envs\\ailab\\lib\\site-packages (from paddlepaddle) (3.20.0)\n",
      "Requirement already satisfied: certifi>=2017.4.17 in d:\\anaconda3\\envs\\ailab\\lib\\site-packages (from requests>=2.20.0->paddlepaddle) (2022.9.14)\n",
      "Requirement already satisfied: charset-normalizer<3,>=2 in d:\\anaconda3\\envs\\ailab\\lib\\site-packages (from requests>=2.20.0->paddlepaddle) (2.1.1)\n",
      "Requirement already satisfied: urllib3<1.27,>=1.21.1 in d:\\anaconda3\\envs\\ailab\\lib\\site-packages (from requests>=2.20.0->paddlepaddle) (1.26.12)\n",
      "Requirement already satisfied: idna<4,>=2.5 in d:\\anaconda3\\envs\\ailab\\lib\\site-packages (from requests>=2.20.0->paddlepaddle) (3.4)\n",
      "Installing collected packages: paddlepaddle\n",
      "Successfully installed paddlepaddle-2.3.2\n",
      "Looking in indexes: https://mirror.baidu.com/pypi/simple\n",
      "Requirement already satisfied: paddlehub in d:\\anaconda3\\envs\\ailab\\lib\\site-packages (2.3.0)\n",
      "Requirement already satisfied: pyzmq in d:\\anaconda3\\envs\\ailab\\lib\\site-packages (from paddlehub) (24.0.0)\n",
      "Requirement already satisfied: rarfile in d:\\anaconda3\\envs\\ailab\\lib\\site-packages (from paddlehub) (4.0)\n",
      "Requirement already satisfied: Pillow in d:\\anaconda3\\envs\\ailab\\lib\\site-packages (from paddlehub) (9.2.0)\n",
      "Requirement already satisfied: filelock in d:\\anaconda3\\envs\\ailab\\lib\\site-packages (from paddlehub) (3.8.0)\n",
      "Requirement already satisfied: pyyaml in d:\\anaconda3\\envs\\ailab\\lib\\site-packages (from paddlehub) (6.0)\n",
      "Requirement already satisfied: packaging in d:\\anaconda3\\envs\\ailab\\lib\\site-packages (from paddlehub) (21.3)\n",
      "Requirement already satisfied: colorama in d:\\anaconda3\\envs\\ailab\\lib\\site-packages (from paddlehub) (0.4.5)\n",
      "Requirement already satisfied: paddle2onnx>=0.5.1 in d:\\anaconda3\\envs\\ailab\\lib\\site-packages (from paddlehub) (1.0.0)\n",
      "Requirement already satisfied: matplotlib in d:\\anaconda3\\envs\\ailab\\lib\\site-packages (from paddlehub) (3.5.3)\n",
      "Requirement already satisfied: easydict in d:\\anaconda3\\envs\\ailab\\lib\\site-packages (from paddlehub) (1.9)\n",
      "Requirement already satisfied: paddlenlp>=2.0.0 in d:\\anaconda3\\envs\\ailab\\lib\\site-packages (from paddlehub) (2.4.0)\n",
      "Requirement already satisfied: flask>=1.1.0 in d:\\anaconda3\\envs\\ailab\\lib\\site-packages (from paddlehub) (2.2.2)\n",
      "Requirement already satisfied: visualdl>=2.0.0 in d:\\anaconda3\\envs\\ailab\\lib\\site-packages (from paddlehub) (2.4.1)\n",
      "Requirement already satisfied: opencv-python in d:\\anaconda3\\envs\\ailab\\lib\\site-packages (from paddlehub) (4.6.0.66)\n",
      "Requirement already satisfied: colorlog in d:\\anaconda3\\envs\\ailab\\lib\\site-packages (from paddlehub) (6.7.0)\n",
      "Requirement already satisfied: tqdm in d:\\anaconda3\\envs\\ailab\\lib\\site-packages (from paddlehub) (4.64.1)\n",
      "Requirement already satisfied: numpy in d:\\anaconda3\\envs\\ailab\\lib\\site-packages (from paddlehub) (1.23.3)\n",
      "Requirement already satisfied: Werkzeug>=2.2.2 in d:\\anaconda3\\envs\\ailab\\lib\\site-packages (from flask>=1.1.0->paddlehub) (2.2.2)\n",
      "Requirement already satisfied: importlib-metadata>=3.6.0 in d:\\anaconda3\\envs\\ailab\\lib\\site-packages (from flask>=1.1.0->paddlehub) (4.12.0)\n",
      "Requirement already satisfied: itsdangerous>=2.0 in d:\\anaconda3\\envs\\ailab\\lib\\site-packages (from flask>=1.1.0->paddlehub) (2.1.2)\n",
      "Requirement already satisfied: Jinja2>=3.0 in d:\\anaconda3\\envs\\ailab\\lib\\site-packages (from flask>=1.1.0->paddlehub) (3.1.2)\n",
      "Requirement already satisfied: click>=8.0 in d:\\anaconda3\\envs\\ailab\\lib\\site-packages (from flask>=1.1.0->paddlehub) (8.1.3)\n",
      "Requirement already satisfied: six in d:\\anaconda3\\envs\\ailab\\lib\\site-packages (from paddle2onnx>=0.5.1->paddlehub) (1.16.0)\n",
      "Requirement already satisfied: datasets>=2.0.0 in d:\\anaconda3\\envs\\ailab\\lib\\site-packages (from paddlenlp>=2.0.0->paddlehub) (2.4.0)\n",
      "Requirement already satisfied: paddlefsl in d:\\anaconda3\\envs\\ailab\\lib\\site-packages (from paddlenlp>=2.0.0->paddlehub) (1.1.0)\n",
      "Requirement already satisfied: dill<0.3.5 in d:\\anaconda3\\envs\\ailab\\lib\\site-packages (from paddlenlp>=2.0.0->paddlehub) (0.3.4)\n",
      "Requirement already satisfied: sentencepiece in d:\\anaconda3\\envs\\ailab\\lib\\site-packages (from paddlenlp>=2.0.0->paddlehub) (0.1.97)\n",
      "Requirement already satisfied: protobuf<=3.20.0,>=3.1.0 in d:\\anaconda3\\envs\\ailab\\lib\\site-packages (from paddlenlp>=2.0.0->paddlehub) (3.20.0)\n",
      "Requirement already satisfied: multiprocess<=0.70.12.2 in d:\\anaconda3\\envs\\ailab\\lib\\site-packages (from paddlenlp>=2.0.0->paddlehub) (0.70.12.2)\n",
      "Requirement already satisfied: jieba in d:\\anaconda3\\envs\\ailab\\lib\\site-packages (from paddlenlp>=2.0.0->paddlehub) (0.42.1)\n",
      "Requirement already satisfied: seqeval in d:\\anaconda3\\envs\\ailab\\lib\\site-packages (from paddlenlp>=2.0.0->paddlehub) (1.2.2)\n",
      "Requirement already satisfied: pandas in d:\\anaconda3\\envs\\ailab\\lib\\site-packages (from visualdl>=2.0.0->paddlehub) (1.4.4)\n",
      "Requirement already satisfied: requests in d:\\anaconda3\\envs\\ailab\\lib\\site-packages (from visualdl>=2.0.0->paddlehub) (2.28.1)\n",
      "Requirement already satisfied: bce-python-sdk in d:\\anaconda3\\envs\\ailab\\lib\\site-packages (from visualdl>=2.0.0->paddlehub) (0.8.74)\n",
      "Requirement already satisfied: Flask-Babel>=1.0.0 in d:\\anaconda3\\envs\\ailab\\lib\\site-packages (from visualdl>=2.0.0->paddlehub) (2.0.0)\n",
      "Requirement already satisfied: cycler>=0.10 in d:\\anaconda3\\envs\\ailab\\lib\\site-packages (from matplotlib->paddlehub) (0.11.0)\n",
      "Requirement already satisfied: python-dateutil>=2.7 in d:\\anaconda3\\envs\\ailab\\lib\\site-packages (from matplotlib->paddlehub) (2.8.2)\n",
      "Requirement already satisfied: kiwisolver>=1.0.1 in d:\\anaconda3\\envs\\ailab\\lib\\site-packages (from matplotlib->paddlehub) (1.4.4)\n",
      "Requirement already satisfied: fonttools>=4.22.0 in d:\\anaconda3\\envs\\ailab\\lib\\site-packages (from matplotlib->paddlehub) (4.37.1)\n",
      "Requirement already satisfied: pyparsing>=2.2.1 in d:\\anaconda3\\envs\\ailab\\lib\\site-packages (from matplotlib->paddlehub) (3.0.9)\n",
      "Requirement already satisfied: aiohttp in d:\\anaconda3\\envs\\ailab\\lib\\site-packages (from datasets>=2.0.0->paddlenlp>=2.0.0->paddlehub) (3.8.1)\n",
      "Requirement already satisfied: responses<0.19 in d:\\anaconda3\\envs\\ailab\\lib\\site-packages (from datasets>=2.0.0->paddlenlp>=2.0.0->paddlehub) (0.18.0)\n",
      "Requirement already satisfied: huggingface-hub<1.0.0,>=0.1.0 in d:\\anaconda3\\envs\\ailab\\lib\\site-packages (from datasets>=2.0.0->paddlenlp>=2.0.0->paddlehub) (0.9.1)\n",
      "Requirement already satisfied: xxhash in d:\\anaconda3\\envs\\ailab\\lib\\site-packages (from datasets>=2.0.0->paddlenlp>=2.0.0->paddlehub) (3.0.0)\n",
      "Requirement already satisfied: pyarrow>=6.0.0 in d:\\anaconda3\\envs\\ailab\\lib\\site-packages (from datasets>=2.0.0->paddlenlp>=2.0.0->paddlehub) (9.0.0)\n",
      "Requirement already satisfied: fsspec[http]>=2021.11.1 in d:\\anaconda3\\envs\\ailab\\lib\\site-packages (from datasets>=2.0.0->paddlenlp>=2.0.0->paddlehub) (2022.8.2)\n",
      "Requirement already satisfied: pytz in d:\\anaconda3\\envs\\ailab\\lib\\site-packages (from Flask-Babel>=1.0.0->visualdl>=2.0.0->paddlehub) (2022.2.1)\n",
      "Requirement already satisfied: Babel>=2.3 in d:\\anaconda3\\envs\\ailab\\lib\\site-packages (from Flask-Babel>=1.0.0->visualdl>=2.0.0->paddlehub) (2.10.3)\n",
      "Requirement already satisfied: zipp>=0.5 in d:\\anaconda3\\envs\\ailab\\lib\\site-packages (from importlib-metadata>=3.6.0->flask>=1.1.0->paddlehub) (3.8.1)\n",
      "Requirement already satisfied: MarkupSafe>=2.0 in d:\\anaconda3\\envs\\ailab\\lib\\site-packages (from Jinja2>=3.0->flask>=1.1.0->paddlehub) (2.1.1)\n",
      "Requirement already satisfied: charset-normalizer<3,>=2 in d:\\anaconda3\\envs\\ailab\\lib\\site-packages (from requests->visualdl>=2.0.0->paddlehub) (2.1.1)\n",
      "Requirement already satisfied: certifi>=2017.4.17 in d:\\anaconda3\\envs\\ailab\\lib\\site-packages (from requests->visualdl>=2.0.0->paddlehub) (2022.9.14)\n",
      "Requirement already satisfied: urllib3<1.27,>=1.21.1 in d:\\anaconda3\\envs\\ailab\\lib\\site-packages (from requests->visualdl>=2.0.0->paddlehub) (1.26.12)\n",
      "Requirement already satisfied: idna<4,>=2.5 in d:\\anaconda3\\envs\\ailab\\lib\\site-packages (from requests->visualdl>=2.0.0->paddlehub) (3.4)\n",
      "Requirement already satisfied: pycryptodome>=3.8.0 in d:\\anaconda3\\envs\\ailab\\lib\\site-packages (from bce-python-sdk->visualdl>=2.0.0->paddlehub) (3.15.0)\n",
      "Requirement already satisfied: future>=0.6.0 in d:\\anaconda3\\envs\\ailab\\lib\\site-packages (from bce-python-sdk->visualdl>=2.0.0->paddlehub) (0.18.2)\n",
      "Requirement already satisfied: scikit-learn>=0.21.3 in d:\\anaconda3\\envs\\ailab\\lib\\site-packages (from seqeval->paddlenlp>=2.0.0->paddlehub) (1.1.2)\n",
      "Requirement already satisfied: async-timeout<5.0,>=4.0.0a3 in d:\\anaconda3\\envs\\ailab\\lib\\site-packages (from aiohttp->datasets>=2.0.0->paddlenlp>=2.0.0->paddlehub) (4.0.2)\n",
      "Requirement already satisfied: frozenlist>=1.1.1 in d:\\anaconda3\\envs\\ailab\\lib\\site-packages (from aiohttp->datasets>=2.0.0->paddlenlp>=2.0.0->paddlehub) (1.3.1)\n",
      "Requirement already satisfied: yarl<2.0,>=1.0 in d:\\anaconda3\\envs\\ailab\\lib\\site-packages (from aiohttp->datasets>=2.0.0->paddlenlp>=2.0.0->paddlehub) (1.8.1)\n",
      "Requirement already satisfied: aiosignal>=1.1.2 in d:\\anaconda3\\envs\\ailab\\lib\\site-packages (from aiohttp->datasets>=2.0.0->paddlenlp>=2.0.0->paddlehub) (1.2.0)\n",
      "Requirement already satisfied: attrs>=17.3.0 in d:\\anaconda3\\envs\\ailab\\lib\\site-packages (from aiohttp->datasets>=2.0.0->paddlenlp>=2.0.0->paddlehub) (22.1.0)\n",
      "Requirement already satisfied: multidict<7.0,>=4.5 in d:\\anaconda3\\envs\\ailab\\lib\\site-packages (from aiohttp->datasets>=2.0.0->paddlenlp>=2.0.0->paddlehub) (6.0.2)\n",
      "Requirement already satisfied: typing-extensions>=3.7.4.3 in d:\\anaconda3\\envs\\ailab\\lib\\site-packages (from huggingface-hub<1.0.0,>=0.1.0->datasets>=2.0.0->paddlenlp>=2.0.0->paddlehub) (4.3.0)\n",
      "Requirement already satisfied: threadpoolctl>=2.0.0 in d:\\anaconda3\\envs\\ailab\\lib\\site-packages (from scikit-learn>=0.21.3->seqeval->paddlenlp>=2.0.0->paddlehub) (3.1.0)\n",
      "Requirement already satisfied: joblib>=1.0.0 in d:\\anaconda3\\envs\\ailab\\lib\\site-packages (from scikit-learn>=0.21.3->seqeval->paddlenlp>=2.0.0->paddlehub) (1.1.0)\n",
      "Requirement already satisfied: scipy>=1.3.2 in d:\\anaconda3\\envs\\ailab\\lib\\site-packages (from scikit-learn>=0.21.3->seqeval->paddlenlp>=2.0.0->paddlehub) (1.9.1)\n"
     ]
    }
   ]
  },
  {
   "cell_type": "code",
   "execution_count": 2,
   "metadata": {
    "collapsed": true,
    "pycharm": {
     "name": "#%%\n"
    }
   },
   "outputs": [
    {
     "name": "stderr",
     "output_type": "stream",
     "text": [
      "D:\\anaconda3\\envs\\AILab\\lib\\site-packages\\paddlenlp\\transformers\\image_utils.py:213: DeprecationWarning: BILINEAR is deprecated and will be removed in Pillow 10 (2023-07-01). Use Resampling.BILINEAR instead.\n",
      "  resample=Image.BILINEAR,\n",
      "D:\\anaconda3\\envs\\AILab\\lib\\site-packages\\paddlenlp\\transformers\\image_utils.py:379: DeprecationWarning: NEAREST is deprecated and will be removed in Pillow 10 (2023-07-01). Use Resampling.NEAREST or Dither.NONE instead.\n",
      "  resample=Image.NEAREST,\n",
      "D:\\anaconda3\\envs\\AILab\\lib\\site-packages\\paddlenlp\\transformers\\ernie_vil\\feature_extraction.py:65: DeprecationWarning: BICUBIC is deprecated and will be removed in Pillow 10 (2023-07-01). Use Resampling.BICUBIC instead.\n",
      "  resample=Image.BICUBIC,\n",
      "D:\\anaconda3\\envs\\AILab\\lib\\site-packages\\paddlenlp\\transformers\\clip\\feature_extraction.py:64: DeprecationWarning: BICUBIC is deprecated and will be removed in Pillow 10 (2023-07-01). Use Resampling.BICUBIC instead.\n",
      "  resample=Image.BICUBIC,\n"
     ]
    },
    {
     "data": {
      "text/plain": "  0%|          | 0/100 [00:00<?, ?%/s]",
      "application/vnd.jupyter.widget-view+json": {
       "version_major": 2,
       "version_minor": 0,
       "model_id": "0bab5eac1fb04caaa4d2a6a76a7c7980"
      }
     },
     "metadata": {},
     "output_type": "display_data"
    },
    {
     "name": "stdout",
     "output_type": "stream",
     "text": [
      "Saving Images...\n",
      "Done\n"
     ]
    },
    {
     "ename": "AttributeError",
     "evalue": "load_uri_to_image_tensor",
     "output_type": "error",
     "traceback": [
      "\u001B[1;31m---------------------------------------------------------------------------\u001B[0m",
      "\u001B[1;31mAttributeError\u001B[0m                            Traceback (most recent call last)",
      "Cell \u001B[1;32mIn [2], line 7\u001B[0m\n\u001B[0;32m      5\u001B[0m module \u001B[38;5;241m=\u001B[39m hub\u001B[38;5;241m.\u001B[39mModule(name\u001B[38;5;241m=\u001B[39m\u001B[38;5;124m\"\u001B[39m\u001B[38;5;124mernie_vilg\u001B[39m\u001B[38;5;124m\"\u001B[39m)\n\u001B[0;32m      6\u001B[0m results \u001B[38;5;241m=\u001B[39m module\u001B[38;5;241m.\u001B[39mgenerate_image(text_prompts\u001B[38;5;241m=\u001B[39m[\u001B[38;5;124m\"\u001B[39m\u001B[38;5;124m巨大的白色城堡\u001B[39m\u001B[38;5;124m\"\u001B[39m])\n\u001B[1;32m----> 7\u001B[0m display(Image\u001B[38;5;241m.\u001B[39mfromarray(\u001B[43mresults\u001B[49m\u001B[43m[\u001B[49m\u001B[38;5;241;43m0\u001B[39;49m\u001B[43m]\u001B[49m\u001B[38;5;241;43m.\u001B[39;49m\u001B[43mload_uri_to_image_tensor\u001B[49m()\u001B[38;5;241m.\u001B[39mtensor))\n",
      "File \u001B[1;32mD:\\anaconda3\\envs\\AILab\\lib\\site-packages\\PIL\\Image.py:517\u001B[0m, in \u001B[0;36mImage.__getattr__\u001B[1;34m(self, name)\u001B[0m\n\u001B[0;32m    515\u001B[0m     deprecate(\u001B[38;5;124m\"\u001B[39m\u001B[38;5;124mImage categories\u001B[39m\u001B[38;5;124m\"\u001B[39m, \u001B[38;5;241m10\u001B[39m, \u001B[38;5;124m\"\u001B[39m\u001B[38;5;124mis_animated\u001B[39m\u001B[38;5;124m\"\u001B[39m, plural\u001B[38;5;241m=\u001B[39m\u001B[38;5;28;01mTrue\u001B[39;00m)\n\u001B[0;32m    516\u001B[0m     \u001B[38;5;28;01mreturn\u001B[39;00m \u001B[38;5;28mself\u001B[39m\u001B[38;5;241m.\u001B[39m_category\n\u001B[1;32m--> 517\u001B[0m \u001B[38;5;28;01mraise\u001B[39;00m \u001B[38;5;167;01mAttributeError\u001B[39;00m(name)\n",
      "\u001B[1;31mAttributeError\u001B[0m: load_uri_to_image_tensor"
     ]
    }
   ],
   "source": [
    "import paddlehub as hub\n",
    "\n",
    "\n",
    "module = hub.Module(name=\"ernie_vilg\")\n",
    "results = module.generate_image(text_prompts=[\"巨大的白色城堡\"])"
   ]
  }
 ],
 "metadata": {
  "kernelspec": {
   "name": "pycharm-7f5a5aeb",
   "language": "python",
   "display_name": "PyCharm (AILab)"
  },
  "language_info": {
   "codemirror_mode": {
    "name": "ipython",
    "version": 2
   },
   "file_extension": ".py",
   "mimetype": "text/x-python",
   "name": "python",
   "nbconvert_exporter": "python",
   "pygments_lexer": "ipython2",
   "version": "2.7.6"
  }
 },
 "nbformat": 4,
 "nbformat_minor": 0
}